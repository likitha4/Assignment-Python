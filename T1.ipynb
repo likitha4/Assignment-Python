{
 "cells": [
  {
   "cell_type": "code",
   "execution_count": 3,
   "metadata": {},
   "outputs": [
    {
     "name": "stdout",
     "output_type": "stream",
     "text": [
      "Enter no.of elements6\n",
      "-1\n",
      "4\n",
      "5\n",
      "77\n",
      "56\n",
      "-90\n",
      "[-1, 4, 5, 77, 56, -90]\n",
      "[4, 5, 77, 56]\n"
     ]
    }
   ],
   "source": [
    "lista = []\n",
    "n1=int(input(\"Enter no.of elements\"))\n",
    "for x in range(0,n1):\n",
    "    elm=int(input())\n",
    "    lista.append(elm)\n",
    "print(lista)\n",
    "\n",
    "for x in lista:\n",
    "    if(x<0):\n",
    "        lista.remove(x)\n",
    "        \n",
    "\n",
    "print(lista)"
   ]
  },
  {
   "cell_type": "code",
   "execution_count": null,
   "metadata": {},
   "outputs": [],
   "source": [
    "\n"
   ]
  },
  {
   "cell_type": "raw",
   "metadata": {},
   "source": []
  }
 ],
 "metadata": {
  "kernelspec": {
   "display_name": "Python 3",
   "language": "python",
   "name": "python3"
  },
  "language_info": {
   "codemirror_mode": {
    "name": "ipython",
    "version": 3
   },
   "file_extension": ".py",
   "mimetype": "text/x-python",
   "name": "python",
   "nbconvert_exporter": "python",
   "pygments_lexer": "ipython3",
   "version": "3.7.6"
  }
 },
 "nbformat": 4,
 "nbformat_minor": 4
}
