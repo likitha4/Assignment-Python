{
 "cells": [
  {
   "cell_type": "code",
   "execution_count": 2,
   "metadata": {},
   "outputs": [
    {
     "name": "stdout",
     "output_type": "stream",
     "text": [
      "Enter no.of elements4\n",
      "-34\n",
      "12\n",
      "-56\n",
      "78\n",
      "[-34, 12, -56, 78]\n",
      "[12, 78]\n"
     ]
    }
   ],
   "source": [
    "lista = []\n",
    "n1=int(input(\"Enter no.of elements\"))\n",
    "for x in range(0,n1):\n",
    "    elm=int(input())\n",
    "    lista.append(elm)\n",
    "print(lista)\n",
    "\n",
    "for x in lista:\n",
    "    if(x<0):\n",
    "        lista.remove(x)\n",
    "        \n",
    "\n",
    "print(lista)"
   ]
  },
  {
   "cell_type": "code",
   "execution_count": 4,
   "metadata": {},
   "outputs": [
    {
     "name": "stdout",
     "output_type": "stream",
     "text": [
      "Enter no.of terms7\n",
      "0\n",
      "1\n",
      "1\n",
      "2\n",
      "3\n",
      "5\n",
      "8\n"
     ]
    }
   ],
   "source": [
    "n=int(input(\"Enter no.of terms\"))\n",
    "a=0\n",
    "b=1\n",
    "cnt=0\n",
    "if(n<=0):\n",
    "    print(\"Invalid input\")\n",
    "elif(n==1):\n",
    "    print(1)\n",
    "else:\n",
    "    while cnt<n:\n",
    "        print(a)\n",
    "        c=a+b\n",
    "        a=b\n",
    "        b=c\n",
    "        cnt=cnt+1"
   ]
  },
  {
   "cell_type": "code",
   "execution_count": null,
   "metadata": {},
   "outputs": [],
   "source": [
    "lista="
   ]
  },
  {
   "cell_type": "code",
   "execution_count": null,
   "metadata": {},
   "outputs": [],
   "source": []
  }
 ],
 "metadata": {
  "kernelspec": {
   "display_name": "Python 3",
   "language": "python",
   "name": "python3"
  },
  "language_info": {
   "codemirror_mode": {
    "name": "ipython",
    "version": 3
   },
   "file_extension": ".py",
   "mimetype": "text/x-python",
   "name": "python",
   "nbconvert_exporter": "python",
   "pygments_lexer": "ipython3",
   "version": "3.7.6"
  }
 },
 "nbformat": 4,
 "nbformat_minor": 4
}
