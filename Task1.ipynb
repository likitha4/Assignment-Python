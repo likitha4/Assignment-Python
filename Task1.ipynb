{
 "cells": [
  {
   "cell_type": "code",
   "execution_count": 2,
   "metadata": {},
   "outputs": [
    {
     "name": "stdout",
     "output_type": "stream",
     "text": [
      "Enter no.of elements4\n",
      "-34\n",
      "12\n",
      "-56\n",
      "78\n",
      "[-34, 12, -56, 78]\n",
      "[12, 78]\n"
     ]
    }
   ],
   "source": [
    "lista = []\n",
    "n1=int(input(\"Enter no.of elements\"))\n",
    "for x in range(0,n1):\n",
    "    elm=int(input())\n",
    "    lista.append(elm)\n",
    "print(lista)\n",
    "\n",
    "for x in lista:\n",
    "    if(x<0):\n",
    "        lista.remove(x)\n",
    "        \n",
    "\n",
    "print(lista)"
   ]
  },
  {
   "cell_type": "code",
   "execution_count": 4,
   "metadata": {},
   "outputs": [
    {
     "name": "stdout",
     "output_type": "stream",
     "text": [
      "Enter no.of terms7\n",
      "0\n",
      "1\n",
      "1\n",
      "2\n",
      "3\n",
      "5\n",
      "8\n"
     ]
    }
   ],
   "source": [
    "n=int(input(\"Enter no.of terms\"))\n",
    "a=0\n",
    "b=1\n",
    "cnt=0\n",
    "if(n<=0):\n",
    "    print(\"Invalid input\")\n",
    "elif(n==1):\n",
    "    print(1)\n",
    "else:\n",
    "    while cnt<n:\n",
    "        print(a)\n",
    "        c=a+b\n",
    "        a=b\n",
    "        b=c\n",
    "        cnt=cnt+1"
   ]
  },
  {
   "cell_type": "code",
   "execution_count": 14,
   "metadata": {},
   "outputs": [],
   "source": [
    "lista=[1,2,3,4,5]\n",
    "listb=[7,8,9,\"hello\",\"welcome\",\"hi\"]\n",
    "listc=[78.5,89.23,'literal','45']"
   ]
  },
  {
   "cell_type": "code",
   "execution_count": 15,
   "metadata": {},
   "outputs": [],
   "source": [
    "lista.append('hey')\n",
    "listb.append(67.45)\n",
    "listc.append('56')"
   ]
  },
  {
   "cell_type": "code",
   "execution_count": 16,
   "metadata": {},
   "outputs": [
    {
     "name": "stdout",
     "output_type": "stream",
     "text": [
      "[1, 2, 3, 4, 5, 'hey']\n",
      "[7, 8, 9, 'hello', 'welcome', 'hi', 67.45]\n",
      "[78.5, 89.23, 'literal', '45', '56']\n"
     ]
    }
   ],
   "source": [
    "print(lista)\n",
    "print(listb)\n",
    "print(listc)"
   ]
  },
  {
   "cell_type": "code",
   "execution_count": 23,
   "metadata": {},
   "outputs": [],
   "source": [
    "tup1=('hello','ramesh','suresh','harish')\n",
    "tup2=(24,43,67,89)\n",
    "tup3=(56.75,87.67,98.49)"
   ]
  },
  {
   "cell_type": "code",
   "execution_count": 24,
   "metadata": {},
   "outputs": [
    {
     "name": "stdout",
     "output_type": "stream",
     "text": [
      "suresh\n",
      "89\n",
      "56.75\n"
     ]
    }
   ],
   "source": [
    "print(tup1[2])\n",
    "print(tup2[3])\n",
    "print(tup3[0])\n"
   ]
  },
  {
   "cell_type": "code",
   "execution_count": 33,
   "metadata": {},
   "outputs": [],
   "source": [
    "dicta={\"model\":\"a\",\"price\":'56k',\"OS\":\"android\",\"camsize\":'58mp'}\n",
    "dictb={\"name\":\"dharani\",\"rollno\":67,\"marks\":98,\"grade\":'O',\"class\":\"12\"}\n",
    "dictc={\"empname\":\"vaishnavi\",\"empid\":45,\"salary\":'87k',\"designation\":\"software developer\"}"
   ]
  },
  {
   "cell_type": "code",
   "execution_count": 34,
   "metadata": {
    "scrolled": true
   },
   "outputs": [
    {
     "name": "stdout",
     "output_type": "stream",
     "text": [
      "56k\n",
      "{'model': 'a', 'OS': 'android', 'camsize': '58mp'}\n",
      "98\n",
      "{'name': 'dharani', 'rollno': 67, 'grade': 'O', 'class': '12'}\n",
      "45\n",
      "{'empname': 'vaishnavi', 'salary': '87k', 'designation': 'software developer'}\n"
     ]
    }
   ],
   "source": [
    "print(dicta.pop('price'))\n",
    "print(dicta)\n",
    "print(dictb.pop('marks'))\n",
    "print(dictb)\n",
    "print(dictc.pop('empid'))\n",
    "print(dictc)\n"
   ]
  },
  {
   "cell_type": "code",
   "execution_count": null,
   "metadata": {},
   "outputs": [],
   "source": []
  }
 ],
 "metadata": {
  "kernelspec": {
   "display_name": "Python 3",
   "language": "python",
   "name": "python3"
  },
  "language_info": {
   "codemirror_mode": {
    "name": "ipython",
    "version": 3
   },
   "file_extension": ".py",
   "mimetype": "text/x-python",
   "name": "python",
   "nbconvert_exporter": "python",
   "pygments_lexer": "ipython3",
   "version": "3.7.6"
  }
 },
 "nbformat": 4,
 "nbformat_minor": 4
}
